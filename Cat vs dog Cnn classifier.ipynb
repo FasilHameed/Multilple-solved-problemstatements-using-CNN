{
 "cells": [
  {
   "cell_type": "markdown",
   "metadata": {},
   "source": [
    "D:\\Completed project\\cnn project Cat and dog\\data\\test_set\\cats\n",
    "D:\\Completed project\\cnn project Cat and dog\\data\\test_set\\dogs\n",
    "D:\\Completed project\\cnn project Cat and dog\\data\\train_set\\cats\n",
    "D:\\Completed project\\cnn project Cat and dog\\data\\train_set\\dogs\n"
   ]
  },
  {
   "cell_type": "code",
   "execution_count": 31,
   "metadata": {},
   "outputs": [],
   "source": [
    "# from keras.preprocessing import image\n",
    "# from keras.preprocessing.image import ImageDataGenerator"
   ]
  },
  {
   "cell_type": "markdown",
   "metadata": {},
   "source": [
    "without aurgumentation"
   ]
  },
  {
   "cell_type": "code",
   "execution_count": 32,
   "metadata": {},
   "outputs": [],
   "source": [
    "import cv2\n",
    "import os\n",
    "import random\n",
    "import numpy as np"
   ]
  },
  {
   "cell_type": "code",
   "execution_count": 33,
   "metadata": {},
   "outputs": [],
   "source": [
    "# mydir=r\"D:\\Completed project\\cnn project Cat and dog\\data\\train_set\""
   ]
  },
  {
   "cell_type": "code",
   "execution_count": 34,
   "metadata": {},
   "outputs": [],
   "source": [
    "# cat=['cats','dogs']"
   ]
  },
  {
   "cell_type": "code",
   "execution_count": 35,
   "metadata": {},
   "outputs": [],
   "source": [
    "# data=[]\n",
    "\n",
    "# for i in cat:\n",
    "#     folder_path=os.path.join(mydir,i)\n",
    "\n",
    "#     if i == 'cats':\n",
    "#         label=0\n",
    "#     else:\n",
    "#         label=1\n",
    "#     for j in os.listdir(folder_path):\n",
    "#         img_path=os.path.join(folder_path,j)\n",
    "#         img=cv2.imread(img_path)\n",
    "#         img=cv2.resize(img,(150,150))\n",
    "#         data.append([img,label])\n"
   ]
  },
  {
   "cell_type": "code",
   "execution_count": 36,
   "metadata": {},
   "outputs": [],
   "source": [
    "# random.shuffle(data)"
   ]
  },
  {
   "cell_type": "code",
   "execution_count": 37,
   "metadata": {},
   "outputs": [],
   "source": [
    "# x=[]\n",
    "# y=[]\n",
    "# for i in data:\n",
    "#     x.append(i[0])\n",
    "#     y.append(i[1])"
   ]
  },
  {
   "cell_type": "code",
   "execution_count": 38,
   "metadata": {},
   "outputs": [],
   "source": [
    "# y=np.array(y)\n",
    "# x=np.array(x)"
   ]
  },
  {
   "cell_type": "code",
   "execution_count": 39,
   "metadata": {},
   "outputs": [
    {
     "data": {
      "text/plain": [
       "(600, 150, 150, 3)"
      ]
     },
     "execution_count": 39,
     "metadata": {},
     "output_type": "execute_result"
    }
   ],
   "source": [
    "# x.shape"
   ]
  },
  {
   "cell_type": "code",
   "execution_count": 40,
   "metadata": {},
   "outputs": [
    {
     "data": {
      "text/plain": [
       "(600,)"
      ]
     },
     "execution_count": 40,
     "metadata": {},
     "output_type": "execute_result"
    }
   ],
   "source": [
    "# y.shape"
   ]
  },
  {
   "cell_type": "code",
   "execution_count": 41,
   "metadata": {},
   "outputs": [],
   "source": [
    "# x=x/255"
   ]
  },
  {
   "cell_type": "code",
   "execution_count": 42,
   "metadata": {},
   "outputs": [],
   "source": [
    "# # Import necessary libraries\n",
    "# from tensorflow.keras.models import Sequential\n",
    "# from tensorflow.keras.layers import Conv2D, MaxPooling2D, Activation, Flatten, Dense, Dropout\n",
    "\n",
    "# # Create a Sequential model\n",
    "# model = Sequential()\n",
    "\n",
    "# # Add Convolutional layers with MaxPooling\n",
    "# model.add(Conv2D(32, kernel_size=(3, 3), input_shape=(150, 150, 3)))\n",
    "# model.add(Activation('relu'))\n",
    "# model.add(MaxPooling2D(pool_size=(2, 2)))\n",
    "\n",
    "# # Add Convolutional layers with MaxPooling\n",
    "# model.add(Conv2D(32, kernel_size=(3, 3)))\n",
    "# model.add(Activation('relu'))\n",
    "# model.add(MaxPooling2D(pool_size=(2, 2)))\n",
    "\n",
    "# # Add another set of Convolutional layers with MaxPooling\n",
    "# model.add(Conv2D(32, kernel_size=(3, 3)))\n",
    "# model.add(Activation('relu'))\n",
    "# model.add(MaxPooling2D(pool_size=(2, 2)))\n",
    "\n",
    "# # Flatten layer\n",
    "# model.add(Flatten())\n",
    "\n",
    "# # Dense layers\n",
    "# model.add(Dense(64, activation='relu'))\n",
    "# model.add(Dropout(0.5))  # Corrected: Dropout layer should be called with parentheses\n",
    "\n",
    "# # Output layer with sigmoid activation for binary classification\n",
    "# model.add(Dense(1, activation='sigmoid'))\n",
    "\n",
    "# # Compile the model with binary crossentropy loss and accuracy metric\n",
    "# model.compile(optimizer='rmsprop', loss='binary_crossentropy', metrics=['accuracy'])\n"
   ]
  },
  {
   "cell_type": "code",
   "execution_count": 45,
   "metadata": {},
   "outputs": [
    {
     "name": "stdout",
     "output_type": "stream",
     "text": [
      "Epoch 1/10\n",
      "WARNING:tensorflow:From c:\\ProgramData\\anaconda3\\Lib\\site-packages\\keras\\src\\utils\\tf_utils.py:492: The name tf.ragged.RaggedTensorValue is deprecated. Please use tf.compat.v1.ragged.RaggedTensorValue instead.\n",
      "\n",
      "WARNING:tensorflow:From c:\\ProgramData\\anaconda3\\Lib\\site-packages\\keras\\src\\engine\\base_layer_utils.py:384: The name tf.executing_eagerly_outside_functions is deprecated. Please use tf.compat.v1.executing_eagerly_outside_functions instead.\n",
      "\n",
      "17/17 [==============================] - 4s 143ms/step - loss: 0.7204 - accuracy: 0.4981 - val_loss: 0.7372 - val_accuracy: 0.4000\n",
      "Epoch 2/10\n",
      "17/17 [==============================] - 2s 113ms/step - loss: 0.6930 - accuracy: 0.5222 - val_loss: 0.6880 - val_accuracy: 0.5833\n",
      "Epoch 3/10\n",
      "17/17 [==============================] - 2s 111ms/step - loss: 0.6952 - accuracy: 0.5296 - val_loss: 0.6899 - val_accuracy: 0.5000\n",
      "Epoch 4/10\n",
      "17/17 [==============================] - 2s 104ms/step - loss: 0.6883 - accuracy: 0.5463 - val_loss: 0.6779 - val_accuracy: 0.6333\n",
      "Epoch 5/10\n",
      "17/17 [==============================] - 2s 108ms/step - loss: 0.6877 - accuracy: 0.5926 - val_loss: 0.6838 - val_accuracy: 0.5167\n",
      "Epoch 6/10\n",
      "17/17 [==============================] - 2s 108ms/step - loss: 0.6765 - accuracy: 0.5944 - val_loss: 0.6852 - val_accuracy: 0.5500\n",
      "Epoch 7/10\n",
      "17/17 [==============================] - 2s 109ms/step - loss: 0.6596 - accuracy: 0.6037 - val_loss: 0.6726 - val_accuracy: 0.5500\n",
      "Epoch 8/10\n",
      "17/17 [==============================] - 2s 107ms/step - loss: 0.6654 - accuracy: 0.6370 - val_loss: 0.6660 - val_accuracy: 0.6000\n",
      "Epoch 9/10\n",
      "17/17 [==============================] - 2s 108ms/step - loss: 0.6073 - accuracy: 0.6611 - val_loss: 0.6946 - val_accuracy: 0.5667\n",
      "Epoch 10/10\n",
      "17/17 [==============================] - 2s 108ms/step - loss: 0.5708 - accuracy: 0.7056 - val_loss: 0.8223 - val_accuracy: 0.5333\n"
     ]
    }
   ],
   "source": [
    "\n",
    "# # Assuming you have train_ds and validation_ds for training and validation datasets\n",
    "# history = model.fit(x,y, epochs=10, validation_split=0.1)\n"
   ]
  },
  {
   "cell_type": "markdown",
   "metadata": {},
   "source": [
    "with argumentation"
   ]
  },
  {
   "cell_type": "code",
   "execution_count": 47,
   "metadata": {},
   "outputs": [],
   "source": [
    "from keras.preprocessing.image import ImageDataGenerator\n",
    "batch_size=16\n",
    "train_datagen=ImageDataGenerator(\n",
    "    rotation_range=30,\n",
    "    shear_range=0.2,\n",
    "    zoom_range=0.2,\n",
    "    horizontal_flip=True,\n",
    "    vertical_flip=False,\n",
    "    width_shift_range=0.2,\n",
    "    height_shift_range=0.2\n",
    ")\n",
    "\n",
    "test_datagen=test_datagen=ImageDataGenerator(rescale=1./255)"
   ]
  },
  {
   "cell_type": "code",
   "execution_count": 50,
   "metadata": {},
   "outputs": [
    {
     "name": "stdout",
     "output_type": "stream",
     "text": [
      "Found 600 images belonging to 2 classes.\n",
      "Found 260 images belonging to 2 classes.\n"
     ]
    }
   ],
   "source": [
    "train_generator=train_datagen.flow_from_directory('./data/train_set/',target_size=(150,150),batch_size=batch_size,class_mode='binary')\n",
    "validation_generator=test_datagen.flow_from_directory('./data/test_set/',target_size=(150,150),batch_size=batch_size,class_mode='binary')\n"
   ]
  },
  {
   "cell_type": "code",
   "execution_count": 51,
   "metadata": {},
   "outputs": [],
   "source": [
    "from keras.models import Sequential\n",
    "# Import necessary libraries\n",
    "from tensorflow.keras.models import Sequential\n",
    "from tensorflow.keras.layers import Conv2D, MaxPooling2D, Activation, Flatten, Dense, Dropout\n",
    "\n",
    "# Create a Sequential model\n",
    "model = Sequential()\n",
    "\n",
    "# Add Convolutional layers with MaxPooling\n",
    "model.add(Conv2D(32, kernel_size=(3, 3), input_shape=(150, 150, 3)))# model.add(Activation('relu'))\n",
    "model.add(MaxPooling2D(pool_size=(2, 2)))\n",
    "\n",
    "# Add Convolutional layers with MaxPooling\n",
    "model.add(Conv2D(32, kernel_size=(3, 3)))\n",
    "model.add(Activation('relu'))\n",
    "model.add(MaxPooling2D(pool_size=(2, 2)))\n",
    "\n",
    "# Add another set of Convolutional layers with MaxPooling\n",
    "model.add(Conv2D(32, kernel_size=(3, 3)))\n",
    "model.add(Activation('relu'))\n",
    "model.add(MaxPooling2D(pool_size=(2, 2)))\n",
    "\n",
    "# Flatten layer\n",
    "model.add(Flatten())\n",
    "\n",
    "# Dense layers\n",
    "model.add(Dense(64, activation='relu'))\n",
    "model.add(Dropout(0.5))  # Corrected: Dropout layer should be called with parentheses\n",
    "\n",
    "# Output layer with sigmoid activation for binary classification\n",
    "model.add(Dense(1, activation='sigmoid'))\n",
    "\n",
    "# Compile the model with binary crossentropy loss and accuracy metric\n",
    "model.compile(optimizer='rmsprop', loss='binary_crossentropy', metrics=['accuracy'])\n"
   ]
  },
  {
   "cell_type": "code",
   "execution_count": 55,
   "metadata": {},
   "outputs": [
    {
     "name": "stderr",
     "output_type": "stream",
     "text": [
      "C:\\Users\\Asus\\AppData\\Local\\Temp\\ipykernel_3812\\3279196699.py:1: UserWarning: `Model.fit_generator` is deprecated and will be removed in a future version. Please use `Model.fit`, which supports generators.\n",
      "  model.fit_generator(\n"
     ]
    },
    {
     "name": "stdout",
     "output_type": "stream",
     "text": [
      "Epoch 1/25\n",
      "37/37 [==============================] - 30s 766ms/step - loss: 26.7628 - accuracy: 0.4949 - val_loss: 0.6930 - val_accuracy: 0.5417\n",
      "Epoch 2/25\n",
      "37/37 [==============================] - 17s 456ms/step - loss: 0.9805 - accuracy: 0.5304 - val_loss: 0.6932 - val_accuracy: 0.4792\n",
      "Epoch 3/25\n",
      "37/37 [==============================] - 17s 466ms/step - loss: 0.6948 - accuracy: 0.4983 - val_loss: 0.6930 - val_accuracy: 0.5312\n",
      "Epoch 4/25\n",
      "37/37 [==============================] - 13s 335ms/step - loss: 0.6935 - accuracy: 0.4795 - val_loss: 0.6931 - val_accuracy: 0.5000\n",
      "Epoch 5/25\n",
      "37/37 [==============================] - 9s 234ms/step - loss: 0.6932 - accuracy: 0.4606 - val_loss: 0.6931 - val_accuracy: 0.4896\n",
      "Epoch 6/25\n",
      "37/37 [==============================] - 8s 206ms/step - loss: 1.1132 - accuracy: 0.4846 - val_loss: 0.6931 - val_accuracy: 0.5000\n",
      "Epoch 7/25\n",
      "37/37 [==============================] - 8s 219ms/step - loss: 0.6932 - accuracy: 0.4777 - val_loss: 0.6932 - val_accuracy: 0.4896\n",
      "Epoch 8/25\n",
      "37/37 [==============================] - 8s 227ms/step - loss: 0.6932 - accuracy: 0.4692 - val_loss: 0.6931 - val_accuracy: 0.5521\n",
      "Epoch 9/25\n",
      "37/37 [==============================] - 8s 219ms/step - loss: 0.6932 - accuracy: 0.5000 - val_loss: 0.6931 - val_accuracy: 0.5104\n",
      "Epoch 10/25\n",
      "37/37 [==============================] - 8s 224ms/step - loss: 0.6932 - accuracy: 0.4623 - val_loss: 0.6931 - val_accuracy: 0.5104\n",
      "Epoch 11/25\n",
      "37/37 [==============================] - 9s 239ms/step - loss: 0.6932 - accuracy: 0.4709 - val_loss: 0.6931 - val_accuracy: 0.5104\n",
      "Epoch 12/25\n",
      "37/37 [==============================] - 8s 213ms/step - loss: 0.6932 - accuracy: 0.4897 - val_loss: 0.6931 - val_accuracy: 0.5208\n",
      "Epoch 13/25\n",
      "37/37 [==============================] - 9s 229ms/step - loss: 0.6932 - accuracy: 0.4743 - val_loss: 0.6931 - val_accuracy: 0.5417\n",
      "Epoch 14/25\n",
      "37/37 [==============================] - 8s 210ms/step - loss: 0.6932 - accuracy: 0.4829 - val_loss: 0.6932 - val_accuracy: 0.4688\n",
      "Epoch 15/25\n",
      "37/37 [==============================] - 9s 232ms/step - loss: 0.6932 - accuracy: 0.4897 - val_loss: 0.6931 - val_accuracy: 0.5417\n",
      "Epoch 16/25\n",
      "37/37 [==============================] - 8s 207ms/step - loss: 0.6932 - accuracy: 0.4743 - val_loss: 0.6932 - val_accuracy: 0.4688\n",
      "Epoch 17/25\n",
      "37/37 [==============================] - 8s 226ms/step - loss: 0.6932 - accuracy: 0.4760 - val_loss: 0.6931 - val_accuracy: 0.5208\n",
      "Epoch 18/25\n",
      "37/37 [==============================] - 8s 223ms/step - loss: 0.6932 - accuracy: 0.4983 - val_loss: 0.6932 - val_accuracy: 0.4896\n",
      "Epoch 19/25\n",
      "37/37 [==============================] - 8s 226ms/step - loss: 0.6932 - accuracy: 0.4606 - val_loss: 0.6932 - val_accuracy: 0.4583\n",
      "Epoch 20/25\n",
      "37/37 [==============================] - 9s 244ms/step - loss: 0.6932 - accuracy: 0.4675 - val_loss: 0.6931 - val_accuracy: 0.5208\n",
      "Epoch 21/25\n",
      "37/37 [==============================] - 9s 244ms/step - loss: 0.6932 - accuracy: 0.4760 - val_loss: 0.6932 - val_accuracy: 0.4896\n",
      "Epoch 22/25\n",
      "37/37 [==============================] - 9s 247ms/step - loss: 0.6932 - accuracy: 0.4897 - val_loss: 0.6931 - val_accuracy: 0.5104\n",
      "Epoch 23/25\n",
      "37/37 [==============================] - 9s 228ms/step - loss: 0.6932 - accuracy: 0.4623 - val_loss: 0.6932 - val_accuracy: 0.4479\n",
      "Epoch 24/25\n",
      "37/37 [==============================] - 8s 217ms/step - loss: 0.6932 - accuracy: 0.4623 - val_loss: 0.6931 - val_accuracy: 0.5000\n",
      "Epoch 25/25\n",
      "37/37 [==============================] - 8s 215ms/step - loss: 0.6932 - accuracy: 0.4846 - val_loss: 0.6931 - val_accuracy: 0.4792\n"
     ]
    },
    {
     "data": {
      "text/plain": [
       "<keras.src.callbacks.History at 0x14cba84f4d0>"
      ]
     },
     "execution_count": 55,
     "metadata": {},
     "output_type": "execute_result"
    }
   ],
   "source": [
    "model.fit_generator(\n",
    "    train_generator,\n",
    "    steps_per_epoch=600 //batch_size,\n",
    "    epochs=25,\n",
    "    validation_data=validation_generator,\n",
    "    validation_steps=100//batch_size\n",
    ")"
   ]
  }
 ],
 "metadata": {
  "kernelspec": {
   "display_name": "base",
   "language": "python",
   "name": "python3"
  },
  "language_info": {
   "codemirror_mode": {
    "name": "ipython",
    "version": 3
   },
   "file_extension": ".py",
   "mimetype": "text/x-python",
   "name": "python",
   "nbconvert_exporter": "python",
   "pygments_lexer": "ipython3",
   "version": "3.11.5"
  }
 },
 "nbformat": 4,
 "nbformat_minor": 2
}
